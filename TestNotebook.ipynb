{
  "nbformat": 4,
  "nbformat_minor": 0,
  "metadata": {
    "colab": {
      "name": "Untitled0.ipynb",
      "provenance": [],
      "collapsed_sections": [],
      "authorship_tag": "ABX9TyMEVMxleo2BrdyCqz65xPPx",
      "include_colab_link": true
    },
    "kernelspec": {
      "name": "python3",
      "display_name": "Python 3"
    },
    "language_info": {
      "name": "python"
    }
  },
  "cells": [
    {
      "cell_type": "markdown",
      "metadata": {
        "id": "view-in-github",
        "colab_type": "text"
      },
      "source": [
        "<a href=\"https://colab.research.google.com/github/dhousler/Notebooks/blob/main/TestNotebook.ipynb\" target=\"_parent\"><img src=\"https://colab.research.google.com/assets/colab-badge.svg\" alt=\"Open In Colab\"/></a>"
      ]
    },
    {
      "cell_type": "markdown",
      "metadata": {
        "id": "RV0kjHz3ULQV"
      },
      "source": [
        "# This is a test notebook\n",
        "+ Some computation will go here!\n"
      ]
    },
    {
      "cell_type": "code",
      "metadata": {
        "colab": {
          "base_uri": "https://localhost:8080/"
        },
        "id": "qlzMsnXTUgov",
        "outputId": "5fd479a5-ac6c-4d46-99e8-0c41bd7ef688"
      },
      "source": [
        "someList = [\"World!\", \"you.\", \"dog.\", \"cat.\"]\n",
        "\n",
        "def hello(helloList):\n",
        "  for word in helloList:\n",
        "    print(\"Hello \" + word)\n",
        "\n",
        "hello(helloList = someList)"
      ],
      "execution_count": 8,
      "outputs": [
        {
          "output_type": "stream",
          "name": "stdout",
          "text": [
            "Hello World!\n",
            "Hello you.\n",
            "Hello dog.\n",
            "Hello cat.\n"
          ]
        }
      ]
    },
    {
      "cell_type": "markdown",
      "metadata": {
        "id": "dF8QAA2OUnaZ"
      },
      "source": [
        ""
      ]
    }
  ]
}